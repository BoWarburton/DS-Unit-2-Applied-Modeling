{
  "nbformat": 4,
  "nbformat_minor": 0,
  "metadata": {
    "kernelspec": {
      "display_name": "Python 3",
      "language": "python",
      "name": "python3"
    },
    "language_info": {
      "codemirror_mode": {
        "name": "ipython",
        "version": 3
      },
      "file_extension": ".py",
      "mimetype": "text/x-python",
      "name": "python",
      "nbconvert_exporter": "python",
      "pygments_lexer": "ipython3",
      "version": "3.7.6"
    },
    "colab": {
      "name": "Bo_Warburton_LS_DS_233_assignment.ipynb",
      "provenance": [],
      "toc_visible": true,
      "include_colab_link": true
    }
  },
  "cells": [
    {
      "cell_type": "markdown",
      "metadata": {
        "id": "view-in-github",
        "colab_type": "text"
      },
      "source": [
        "<a href=\"https://colab.research.google.com/github/BoWarburton/DS-Unit-2-Applied-Modeling/blob/master/Bo_Warburton_LS_DS_233_assignment.ipynb\" target=\"_parent\"><img src=\"https://colab.research.google.com/assets/colab-badge.svg\" alt=\"Open In Colab\"/></a>"
      ]
    },
    {
      "cell_type": "markdown",
      "metadata": {
        "colab_type": "text",
        "id": "nCc3XZEyG3XV"
      },
      "source": [
        "Lambda School Data Science\n",
        "\n",
        "*Unit 2, Sprint 3, Module 3*\n",
        "\n",
        "---\n",
        "\n",
        "\n",
        "# Permutation & Boosting\n",
        "\n",
        "You will use your portfolio project dataset for all assignments this sprint.\n",
        "\n",
        "## Assignment\n",
        "\n",
        "Complete these tasks for your project, and document your work.\n",
        "\n",
        "- [ ] If you haven't completed assignment #1, please do so first.\n",
        "- [ ] Continue to clean and explore your data. Make exploratory visualizations.\n",
        "- [ ] Fit a model. Does it beat your baseline? \n",
        "- [ ] Try xgboost.\n",
        "- [ ] Get your model's permutation importances.\n",
        "\n",
        "You should try to complete an initial model today, because the rest of the week, we're making model interpretation visualizations.\n",
        "\n",
        "But, if you aren't ready to try xgboost and permutation importances with your dataset today, that's okay. You can practice with another dataset instead. You may choose any dataset you've worked with previously.\n",
        "\n",
        "The data subdirectory includes the Titanic dataset for classification and the NYC apartments dataset for regression. You may want to choose one of these datasets, because example solutions will be available for each.\n",
        "\n",
        "\n",
        "## Reading\n",
        "\n",
        "Top recommendations in _**bold italic:**_\n",
        "\n",
        "#### Permutation Importances\n",
        "- _**[Kaggle / Dan Becker: Machine Learning Explainability](https://www.kaggle.com/dansbecker/permutation-importance)**_\n",
        "- [Christoph Molnar: Interpretable Machine Learning](https://christophm.github.io/interpretable-ml-book/feature-importance.html)\n",
        "\n",
        "#### (Default) Feature Importances\n",
        "  - [Ando Saabas: Selecting good features, Part 3, Random Forests](https://blog.datadive.net/selecting-good-features-part-iii-random-forests/)\n",
        "  - [Terence Parr, et al: Beware Default Random Forest Importances](https://explained.ai/rf-importance/index.html)\n",
        "\n",
        "#### Gradient Boosting\n",
        "  - [A Gentle Introduction to the Gradient Boosting Algorithm for Machine Learning](https://machinelearningmastery.com/gentle-introduction-gradient-boosting-algorithm-machine-learning/)\n",
        "  - [An Introduction to Statistical Learning](http://www-bcf.usc.edu/~gareth/ISL/ISLR%20Seventh%20Printing.pdf), Chapter 8\n",
        "  - _**[Gradient Boosting Explained](https://www.gormanalysis.com/blog/gradient-boosting-explained/)**_ — Ben Gorman\n",
        "  - [Gradient Boosting Explained](http://arogozhnikov.github.io/2016/06/24/gradient_boosting_explained.html) — Alex Rogozhnikov\n",
        "  - [How to explain gradient boosting](https://explained.ai/gradient-boosting/) — Terence Parr & Jeremy Howard"
      ]
    },
    {
      "cell_type": "markdown",
      "metadata": {
        "id": "YE1NsG_F58hH",
        "colab_type": "text"
      },
      "source": [
        "# The Data: COB Sales and HUNS at Five KFC Stores from 2018 and 2019"
      ]
    },
    {
      "cell_type": "markdown",
      "metadata": {
        "id": "c919WSeg7iBi",
        "colab_type": "text"
      },
      "source": [
        "## The Setup"
      ]
    },
    {
      "cell_type": "code",
      "metadata": {
        "id": "o2EvQyYz7WAM",
        "colab_type": "code",
        "colab": {}
      },
      "source": [
        "%%capture\n",
        "import sys\n",
        "\n",
        "# If you're on Colab:\n",
        "if 'google.colab' in sys.modules:\n",
        "    DATA_PATH = 'https://raw.githubusercontent.com/LambdaSchool/DS-Unit-2-Applied-Modeling/master/data/'\n",
        "    !pip install category_encoders==2.*\n",
        "    !pip install pandas-profiling==2.*\n",
        "\n",
        "# If you're working locally:\n",
        "else:\n",
        "    DATA_PATH = '../data/'"
      ],
      "execution_count": 0,
      "outputs": []
    },
    {
      "cell_type": "markdown",
      "metadata": {
        "id": "uhN_lBNB7mE0",
        "colab_type": "text"
      },
      "source": [
        "## The Reading and Cleaning\n",
        "- Drop columns\n",
        "- Lower case\n",
        "- Replace space with underscore\n",
        "- Spell check\n",
        "- Outliers\n",
        "- Negative numbers\n",
        "- Null values\n",
        "\n",
        "Note to self: check with the business about negative numbers. Maybe that is a correct number for some reason. Shouldn't make assumptions.\n",
        "\n",
        "Nothing here should create a risk of overfitting or creating an incorrect model."
      ]
    },
    {
      "cell_type": "code",
      "metadata": {
        "id": "MbtGG-F3-CUo",
        "colab_type": "code",
        "colab": {}
      },
      "source": [
        "# Uncompress data if necessary and change directory to where uncompressed\n",
        "# import tarfile\n",
        "# tarfile.open('instacart_online_grocery_shopping_2017_05_01.tar.gz').extractall()\n",
        "# %cd instacart_2017_05_01"
      ],
      "execution_count": 0,
      "outputs": []
    },
    {
      "cell_type": "code",
      "metadata": {
        "id": "ZTlEyWxg-Po7",
        "colab_type": "code",
        "colab": {}
      },
      "source": [
        "# If there are several files in this dataset,\n",
        "# Loop through files ending in csv and print filename, shape, and first rows\n",
        "# Using helpful library \"glob\" here; you can also use import os\n",
        "# from glob import glob\n",
        "# for filename in glob('*.csv'):\n",
        "#     print(filename)\n",
        "\n",
        "# import pandas as pd\n",
        "# from IPython.display import display\n",
        "\n",
        "# def preview():\n",
        "#   for filename in glob('*.csv'):\n",
        "#     df = pd.read_csv(filename)\n",
        "#     print(filename)\n",
        "#     print(f'Shape: {df.shape}')\n",
        "#     display(df.head())\n",
        "\n",
        "# preview()"
      ],
      "execution_count": 0,
      "outputs": []
    },
    {
      "cell_type": "code",
      "metadata": {
        "id": "0ohj4oDg1spo",
        "colab_type": "code",
        "colab": {}
      },
      "source": [
        "# Each row is Chicken on Bone (COB) and Heads Used but Not Sold (HUNS) for one date at one KFC\n",
        "import pandas as pd\n",
        "data_file = 'https://github.com/BoWarburton/heads-used-not-sold/raw/master/huns.csv'\n",
        "df_original = pd.read_csv(data_file)"
      ],
      "execution_count": 0,
      "outputs": []
    },
    {
      "cell_type": "code",
      "metadata": {
        "id": "dWWfwqxU2ja_",
        "colab_type": "code",
        "outputId": "0712e9a7-cb4f-4550-aec9-54754dd8fa23",
        "colab": {
          "base_uri": "https://localhost:8080/",
          "height": 221
        }
      },
      "source": [
        "df_original.head()"
      ],
      "execution_count": 13,
      "outputs": [
        {
          "output_type": "execute_result",
          "data": {
            "text/html": [
              "<div>\n",
              "<style scoped>\n",
              "    .dataframe tbody tr th:only-of-type {\n",
              "        vertical-align: middle;\n",
              "    }\n",
              "\n",
              "    .dataframe tbody tr th {\n",
              "        vertical-align: top;\n",
              "    }\n",
              "\n",
              "    .dataframe thead th {\n",
              "        text-align: right;\n",
              "    }\n",
              "</style>\n",
              "<table border=\"1\" class=\"dataframe\">\n",
              "  <thead>\n",
              "    <tr style=\"text-align: right;\">\n",
              "      <th></th>\n",
              "      <th>StoreCode</th>\n",
              "      <th>Date</th>\n",
              "      <th>ChickenHuns</th>\n",
              "      <th>1pc</th>\n",
              "      <th>2 pc</th>\n",
              "      <th>3 pc</th>\n",
              "      <th>4 pc</th>\n",
              "      <th>8pc</th>\n",
              "      <th>8pc Meal</th>\n",
              "      <th>12 pc</th>\n",
              "      <th>12 pc Meal</th>\n",
              "      <th>16 pc</th>\n",
              "      <th>16 pc Meal</th>\n",
              "      <th>20 pc</th>\n",
              "      <th>20 pc Meal</th>\n",
              "    </tr>\n",
              "  </thead>\n",
              "  <tbody>\n",
              "    <tr>\n",
              "      <th>0</th>\n",
              "      <td>C750001</td>\n",
              "      <td>20180221</td>\n",
              "      <td>20.625</td>\n",
              "      <td>23</td>\n",
              "      <td>61</td>\n",
              "      <td>10</td>\n",
              "      <td>0</td>\n",
              "      <td>29</td>\n",
              "      <td>1</td>\n",
              "      <td>7</td>\n",
              "      <td>1</td>\n",
              "      <td>4</td>\n",
              "      <td>0</td>\n",
              "      <td>1</td>\n",
              "      <td>1</td>\n",
              "    </tr>\n",
              "    <tr>\n",
              "      <th>1</th>\n",
              "      <td>C750001</td>\n",
              "      <td>20180222</td>\n",
              "      <td>18.125</td>\n",
              "      <td>19</td>\n",
              "      <td>78</td>\n",
              "      <td>5</td>\n",
              "      <td>0</td>\n",
              "      <td>23</td>\n",
              "      <td>3</td>\n",
              "      <td>14</td>\n",
              "      <td>0</td>\n",
              "      <td>9</td>\n",
              "      <td>1</td>\n",
              "      <td>0</td>\n",
              "      <td>0</td>\n",
              "    </tr>\n",
              "    <tr>\n",
              "      <th>2</th>\n",
              "      <td>C750001</td>\n",
              "      <td>20180223</td>\n",
              "      <td>14.875</td>\n",
              "      <td>16</td>\n",
              "      <td>68</td>\n",
              "      <td>8</td>\n",
              "      <td>0</td>\n",
              "      <td>34</td>\n",
              "      <td>1</td>\n",
              "      <td>10</td>\n",
              "      <td>2</td>\n",
              "      <td>7</td>\n",
              "      <td>1</td>\n",
              "      <td>1</td>\n",
              "      <td>0</td>\n",
              "    </tr>\n",
              "    <tr>\n",
              "      <th>3</th>\n",
              "      <td>C750001</td>\n",
              "      <td>20180224</td>\n",
              "      <td>25.875</td>\n",
              "      <td>17</td>\n",
              "      <td>48</td>\n",
              "      <td>4</td>\n",
              "      <td>0</td>\n",
              "      <td>29</td>\n",
              "      <td>2</td>\n",
              "      <td>9</td>\n",
              "      <td>1</td>\n",
              "      <td>5</td>\n",
              "      <td>1</td>\n",
              "      <td>0</td>\n",
              "      <td>0</td>\n",
              "    </tr>\n",
              "    <tr>\n",
              "      <th>4</th>\n",
              "      <td>C750001</td>\n",
              "      <td>20180225</td>\n",
              "      <td>24.500</td>\n",
              "      <td>21</td>\n",
              "      <td>43</td>\n",
              "      <td>6</td>\n",
              "      <td>0</td>\n",
              "      <td>27</td>\n",
              "      <td>3</td>\n",
              "      <td>14</td>\n",
              "      <td>1</td>\n",
              "      <td>5</td>\n",
              "      <td>1</td>\n",
              "      <td>0</td>\n",
              "      <td>0</td>\n",
              "    </tr>\n",
              "  </tbody>\n",
              "</table>\n",
              "</div>"
            ],
            "text/plain": [
              "  StoreCode      Date  ChickenHuns  1pc  ...  16 pc  16 pc Meal  20 pc  20 pc Meal\n",
              "0   C750001  20180221       20.625   23  ...      4           0      1           1\n",
              "1   C750001  20180222       18.125   19  ...      9           1      0           0\n",
              "2   C750001  20180223       14.875   16  ...      7           1      1           0\n",
              "3   C750001  20180224       25.875   17  ...      5           1      0           0\n",
              "4   C750001  20180225       24.500   21  ...      5           1      0           0\n",
              "\n",
              "[5 rows x 15 columns]"
            ]
          },
          "metadata": {
            "tags": []
          },
          "execution_count": 13
        }
      ]
    },
    {
      "cell_type": "code",
      "metadata": {
        "id": "5KIL8x8t22x_",
        "colab_type": "code",
        "outputId": "08b30ea8-4f24-4dc9-a019-4cdc1ff94e3a",
        "colab": {
          "base_uri": "https://localhost:8080/",
          "height": 34
        }
      },
      "source": [
        "# Good dataset with 3,530 observations across 15 features\n",
        "df_original.shape"
      ],
      "execution_count": 14,
      "outputs": [
        {
          "output_type": "execute_result",
          "data": {
            "text/plain": [
              "(3530, 15)"
            ]
          },
          "metadata": {
            "tags": []
          },
          "execution_count": 14
        }
      ]
    },
    {
      "cell_type": "code",
      "metadata": {
        "id": "KIIno2Ri243I",
        "colab_type": "code",
        "outputId": "d582f18a-8b75-47fa-d51d-053592b7185d",
        "colab": {
          "base_uri": "https://localhost:8080/",
          "height": 334
        }
      },
      "source": [
        "# The target is ChickenHuns\n",
        "df_original.describe()"
      ],
      "execution_count": 16,
      "outputs": [
        {
          "output_type": "execute_result",
          "data": {
            "text/html": [
              "<div>\n",
              "<style scoped>\n",
              "    .dataframe tbody tr th:only-of-type {\n",
              "        vertical-align: middle;\n",
              "    }\n",
              "\n",
              "    .dataframe tbody tr th {\n",
              "        vertical-align: top;\n",
              "    }\n",
              "\n",
              "    .dataframe thead th {\n",
              "        text-align: right;\n",
              "    }\n",
              "</style>\n",
              "<table border=\"1\" class=\"dataframe\">\n",
              "  <thead>\n",
              "    <tr style=\"text-align: right;\">\n",
              "      <th></th>\n",
              "      <th>Date</th>\n",
              "      <th>ChickenHuns</th>\n",
              "      <th>1pc</th>\n",
              "      <th>2 pc</th>\n",
              "      <th>3 pc</th>\n",
              "      <th>4 pc</th>\n",
              "      <th>8pc</th>\n",
              "      <th>8pc Meal</th>\n",
              "      <th>12 pc</th>\n",
              "      <th>12 pc Meal</th>\n",
              "      <th>16 pc</th>\n",
              "      <th>16 pc Meal</th>\n",
              "      <th>20 pc</th>\n",
              "      <th>20 pc Meal</th>\n",
              "    </tr>\n",
              "  </thead>\n",
              "  <tbody>\n",
              "    <tr>\n",
              "      <th>count</th>\n",
              "      <td>3.530000e+03</td>\n",
              "      <td>3530.000000</td>\n",
              "      <td>3530.000000</td>\n",
              "      <td>3530.00000</td>\n",
              "      <td>3530.000000</td>\n",
              "      <td>3530.000000</td>\n",
              "      <td>3530.000000</td>\n",
              "      <td>3530.000000</td>\n",
              "      <td>3530.000000</td>\n",
              "      <td>3530.000000</td>\n",
              "      <td>3530.000000</td>\n",
              "      <td>3530.000000</td>\n",
              "      <td>3530.000000</td>\n",
              "      <td>3530.000000</td>\n",
              "    </tr>\n",
              "    <tr>\n",
              "      <th>mean</th>\n",
              "      <td>2.018706e+07</td>\n",
              "      <td>17.155524</td>\n",
              "      <td>13.025779</td>\n",
              "      <td>41.30085</td>\n",
              "      <td>6.333144</td>\n",
              "      <td>2.237960</td>\n",
              "      <td>6.272238</td>\n",
              "      <td>2.341643</td>\n",
              "      <td>5.910198</td>\n",
              "      <td>1.699433</td>\n",
              "      <td>3.461190</td>\n",
              "      <td>0.987252</td>\n",
              "      <td>0.273088</td>\n",
              "      <td>0.322380</td>\n",
              "    </tr>\n",
              "    <tr>\n",
              "      <th>std</th>\n",
              "      <td>5.988819e+03</td>\n",
              "      <td>36.131985</td>\n",
              "      <td>8.964851</td>\n",
              "      <td>15.46182</td>\n",
              "      <td>5.611545</td>\n",
              "      <td>2.649557</td>\n",
              "      <td>5.881116</td>\n",
              "      <td>1.757144</td>\n",
              "      <td>3.246575</td>\n",
              "      <td>1.475991</td>\n",
              "      <td>2.381875</td>\n",
              "      <td>1.212996</td>\n",
              "      <td>0.598653</td>\n",
              "      <td>0.778198</td>\n",
              "    </tr>\n",
              "    <tr>\n",
              "      <th>min</th>\n",
              "      <td>2.018022e+07</td>\n",
              "      <td>-548.500000</td>\n",
              "      <td>0.000000</td>\n",
              "      <td>3.00000</td>\n",
              "      <td>0.000000</td>\n",
              "      <td>0.000000</td>\n",
              "      <td>0.000000</td>\n",
              "      <td>-1.000000</td>\n",
              "      <td>0.000000</td>\n",
              "      <td>0.000000</td>\n",
              "      <td>0.000000</td>\n",
              "      <td>0.000000</td>\n",
              "      <td>-1.000000</td>\n",
              "      <td>-1.000000</td>\n",
              "    </tr>\n",
              "    <tr>\n",
              "      <th>25%</th>\n",
              "      <td>2.018082e+07</td>\n",
              "      <td>10.750000</td>\n",
              "      <td>7.000000</td>\n",
              "      <td>30.00000</td>\n",
              "      <td>2.000000</td>\n",
              "      <td>0.000000</td>\n",
              "      <td>2.000000</td>\n",
              "      <td>1.000000</td>\n",
              "      <td>4.000000</td>\n",
              "      <td>1.000000</td>\n",
              "      <td>2.000000</td>\n",
              "      <td>0.000000</td>\n",
              "      <td>0.000000</td>\n",
              "      <td>0.000000</td>\n",
              "    </tr>\n",
              "    <tr>\n",
              "      <th>50%</th>\n",
              "      <td>2.019022e+07</td>\n",
              "      <td>15.500000</td>\n",
              "      <td>13.000000</td>\n",
              "      <td>40.00000</td>\n",
              "      <td>5.000000</td>\n",
              "      <td>1.000000</td>\n",
              "      <td>4.000000</td>\n",
              "      <td>2.000000</td>\n",
              "      <td>5.000000</td>\n",
              "      <td>1.000000</td>\n",
              "      <td>3.000000</td>\n",
              "      <td>1.000000</td>\n",
              "      <td>0.000000</td>\n",
              "      <td>0.000000</td>\n",
              "    </tr>\n",
              "    <tr>\n",
              "      <th>75%</th>\n",
              "      <td>2.019082e+07</td>\n",
              "      <td>21.000000</td>\n",
              "      <td>19.000000</td>\n",
              "      <td>51.00000</td>\n",
              "      <td>9.000000</td>\n",
              "      <td>4.000000</td>\n",
              "      <td>9.000000</td>\n",
              "      <td>3.000000</td>\n",
              "      <td>8.000000</td>\n",
              "      <td>2.000000</td>\n",
              "      <td>5.000000</td>\n",
              "      <td>2.000000</td>\n",
              "      <td>0.000000</td>\n",
              "      <td>0.000000</td>\n",
              "    </tr>\n",
              "    <tr>\n",
              "      <th>max</th>\n",
              "      <td>2.020022e+07</td>\n",
              "      <td>1053.500000</td>\n",
              "      <td>54.000000</td>\n",
              "      <td>110.00000</td>\n",
              "      <td>38.000000</td>\n",
              "      <td>15.000000</td>\n",
              "      <td>34.000000</td>\n",
              "      <td>14.000000</td>\n",
              "      <td>22.000000</td>\n",
              "      <td>9.000000</td>\n",
              "      <td>22.000000</td>\n",
              "      <td>14.000000</td>\n",
              "      <td>6.000000</td>\n",
              "      <td>11.000000</td>\n",
              "    </tr>\n",
              "  </tbody>\n",
              "</table>\n",
              "</div>"
            ],
            "text/plain": [
              "               Date  ChickenHuns  ...        20 pc   20 pc Meal\n",
              "count  3.530000e+03  3530.000000  ...  3530.000000  3530.000000\n",
              "mean   2.018706e+07    17.155524  ...     0.273088     0.322380\n",
              "std    5.988819e+03    36.131985  ...     0.598653     0.778198\n",
              "min    2.018022e+07  -548.500000  ...    -1.000000    -1.000000\n",
              "25%    2.018082e+07    10.750000  ...     0.000000     0.000000\n",
              "50%    2.019022e+07    15.500000  ...     0.000000     0.000000\n",
              "75%    2.019082e+07    21.000000  ...     0.000000     0.000000\n",
              "max    2.020022e+07  1053.500000  ...     6.000000    11.000000\n",
              "\n",
              "[8 rows x 14 columns]"
            ]
          },
          "metadata": {
            "tags": []
          },
          "execution_count": 16
        }
      ]
    },
    {
      "cell_type": "code",
      "metadata": {
        "id": "bSlJ9vfq288A",
        "colab_type": "code",
        "outputId": "0b620e68-8291-4f37-84a9-c4900d26839e",
        "colab": {
          "base_uri": "https://localhost:8080/",
          "height": 289
        }
      },
      "source": [
        "df_original.dtypes"
      ],
      "execution_count": 17,
      "outputs": [
        {
          "output_type": "execute_result",
          "data": {
            "text/plain": [
              "StoreCode       object\n",
              "Date             int64\n",
              "ChickenHuns    float64\n",
              "1pc              int64\n",
              "2 pc             int64\n",
              "3 pc             int64\n",
              "4 pc             int64\n",
              "8pc              int64\n",
              "8pc Meal         int64\n",
              "12 pc            int64\n",
              "12 pc Meal       int64\n",
              "16 pc            int64\n",
              "16 pc Meal       int64\n",
              "20 pc            int64\n",
              "20 pc Meal       int64\n",
              "dtype: object"
            ]
          },
          "metadata": {
            "tags": []
          },
          "execution_count": 17
        }
      ]
    },
    {
      "cell_type": "code",
      "metadata": {
        "id": "UVEPhzKc1l1P",
        "colab_type": "code",
        "colab": {
          "base_uri": "https://localhost:8080/",
          "height": 34
        },
        "outputId": "30902e65-6d22-4cad-9e52-e86e42779f5a"
      },
      "source": [
        "# Drop columns\n",
        "df = df_original\n",
        "# drop_columns = ['']\n",
        "# df = df_dcf.drop(columns = drop_columns)\n",
        "df.shape"
      ],
      "execution_count": 51,
      "outputs": [
        {
          "output_type": "execute_result",
          "data": {
            "text/plain": [
              "(3530, 15)"
            ]
          },
          "metadata": {
            "tags": []
          },
          "execution_count": 51
        }
      ]
    },
    {
      "cell_type": "code",
      "metadata": {
        "id": "Ghb-7whY03po",
        "colab_type": "code",
        "colab": {
          "base_uri": "https://localhost:8080/",
          "height": 334
        },
        "outputId": "76639d6c-2bcb-40fc-9095-f355730bbf04"
      },
      "source": [
        "# Fix column names\n",
        "# Put column names in lower case\n",
        "df.columns = map(str.lower, df.columns)\n",
        "df.describe()"
      ],
      "execution_count": 52,
      "outputs": [
        {
          "output_type": "execute_result",
          "data": {
            "text/html": [
              "<div>\n",
              "<style scoped>\n",
              "    .dataframe tbody tr th:only-of-type {\n",
              "        vertical-align: middle;\n",
              "    }\n",
              "\n",
              "    .dataframe tbody tr th {\n",
              "        vertical-align: top;\n",
              "    }\n",
              "\n",
              "    .dataframe thead th {\n",
              "        text-align: right;\n",
              "    }\n",
              "</style>\n",
              "<table border=\"1\" class=\"dataframe\">\n",
              "  <thead>\n",
              "    <tr style=\"text-align: right;\">\n",
              "      <th></th>\n",
              "      <th>date</th>\n",
              "      <th>chickenhuns</th>\n",
              "      <th>1pc</th>\n",
              "      <th>2 pc</th>\n",
              "      <th>3 pc</th>\n",
              "      <th>4 pc</th>\n",
              "      <th>8pc</th>\n",
              "      <th>8pc meal</th>\n",
              "      <th>12 pc</th>\n",
              "      <th>12 pc meal</th>\n",
              "      <th>16 pc</th>\n",
              "      <th>16 pc meal</th>\n",
              "      <th>20 pc</th>\n",
              "      <th>20 pc meal</th>\n",
              "    </tr>\n",
              "  </thead>\n",
              "  <tbody>\n",
              "    <tr>\n",
              "      <th>count</th>\n",
              "      <td>3.530000e+03</td>\n",
              "      <td>3530.000000</td>\n",
              "      <td>3530.000000</td>\n",
              "      <td>3530.00000</td>\n",
              "      <td>3530.000000</td>\n",
              "      <td>3530.000000</td>\n",
              "      <td>3530.000000</td>\n",
              "      <td>3530.000000</td>\n",
              "      <td>3530.000000</td>\n",
              "      <td>3530.000000</td>\n",
              "      <td>3530.000000</td>\n",
              "      <td>3530.000000</td>\n",
              "      <td>3530.000000</td>\n",
              "      <td>3530.000000</td>\n",
              "    </tr>\n",
              "    <tr>\n",
              "      <th>mean</th>\n",
              "      <td>2.018706e+07</td>\n",
              "      <td>17.155524</td>\n",
              "      <td>13.025779</td>\n",
              "      <td>41.30085</td>\n",
              "      <td>6.333144</td>\n",
              "      <td>2.237960</td>\n",
              "      <td>6.272238</td>\n",
              "      <td>2.341643</td>\n",
              "      <td>5.910198</td>\n",
              "      <td>1.699433</td>\n",
              "      <td>3.461190</td>\n",
              "      <td>0.987252</td>\n",
              "      <td>0.273088</td>\n",
              "      <td>0.322380</td>\n",
              "    </tr>\n",
              "    <tr>\n",
              "      <th>std</th>\n",
              "      <td>5.988819e+03</td>\n",
              "      <td>36.131985</td>\n",
              "      <td>8.964851</td>\n",
              "      <td>15.46182</td>\n",
              "      <td>5.611545</td>\n",
              "      <td>2.649557</td>\n",
              "      <td>5.881116</td>\n",
              "      <td>1.757144</td>\n",
              "      <td>3.246575</td>\n",
              "      <td>1.475991</td>\n",
              "      <td>2.381875</td>\n",
              "      <td>1.212996</td>\n",
              "      <td>0.598653</td>\n",
              "      <td>0.778198</td>\n",
              "    </tr>\n",
              "    <tr>\n",
              "      <th>min</th>\n",
              "      <td>2.018022e+07</td>\n",
              "      <td>-548.500000</td>\n",
              "      <td>0.000000</td>\n",
              "      <td>3.00000</td>\n",
              "      <td>0.000000</td>\n",
              "      <td>0.000000</td>\n",
              "      <td>0.000000</td>\n",
              "      <td>-1.000000</td>\n",
              "      <td>0.000000</td>\n",
              "      <td>0.000000</td>\n",
              "      <td>0.000000</td>\n",
              "      <td>0.000000</td>\n",
              "      <td>-1.000000</td>\n",
              "      <td>-1.000000</td>\n",
              "    </tr>\n",
              "    <tr>\n",
              "      <th>25%</th>\n",
              "      <td>2.018082e+07</td>\n",
              "      <td>10.750000</td>\n",
              "      <td>7.000000</td>\n",
              "      <td>30.00000</td>\n",
              "      <td>2.000000</td>\n",
              "      <td>0.000000</td>\n",
              "      <td>2.000000</td>\n",
              "      <td>1.000000</td>\n",
              "      <td>4.000000</td>\n",
              "      <td>1.000000</td>\n",
              "      <td>2.000000</td>\n",
              "      <td>0.000000</td>\n",
              "      <td>0.000000</td>\n",
              "      <td>0.000000</td>\n",
              "    </tr>\n",
              "    <tr>\n",
              "      <th>50%</th>\n",
              "      <td>2.019022e+07</td>\n",
              "      <td>15.500000</td>\n",
              "      <td>13.000000</td>\n",
              "      <td>40.00000</td>\n",
              "      <td>5.000000</td>\n",
              "      <td>1.000000</td>\n",
              "      <td>4.000000</td>\n",
              "      <td>2.000000</td>\n",
              "      <td>5.000000</td>\n",
              "      <td>1.000000</td>\n",
              "      <td>3.000000</td>\n",
              "      <td>1.000000</td>\n",
              "      <td>0.000000</td>\n",
              "      <td>0.000000</td>\n",
              "    </tr>\n",
              "    <tr>\n",
              "      <th>75%</th>\n",
              "      <td>2.019082e+07</td>\n",
              "      <td>21.000000</td>\n",
              "      <td>19.000000</td>\n",
              "      <td>51.00000</td>\n",
              "      <td>9.000000</td>\n",
              "      <td>4.000000</td>\n",
              "      <td>9.000000</td>\n",
              "      <td>3.000000</td>\n",
              "      <td>8.000000</td>\n",
              "      <td>2.000000</td>\n",
              "      <td>5.000000</td>\n",
              "      <td>2.000000</td>\n",
              "      <td>0.000000</td>\n",
              "      <td>0.000000</td>\n",
              "    </tr>\n",
              "    <tr>\n",
              "      <th>max</th>\n",
              "      <td>2.020022e+07</td>\n",
              "      <td>1053.500000</td>\n",
              "      <td>54.000000</td>\n",
              "      <td>110.00000</td>\n",
              "      <td>38.000000</td>\n",
              "      <td>15.000000</td>\n",
              "      <td>34.000000</td>\n",
              "      <td>14.000000</td>\n",
              "      <td>22.000000</td>\n",
              "      <td>9.000000</td>\n",
              "      <td>22.000000</td>\n",
              "      <td>14.000000</td>\n",
              "      <td>6.000000</td>\n",
              "      <td>11.000000</td>\n",
              "    </tr>\n",
              "  </tbody>\n",
              "</table>\n",
              "</div>"
            ],
            "text/plain": [
              "               date  chickenhuns  ...        20 pc   20 pc meal\n",
              "count  3.530000e+03  3530.000000  ...  3530.000000  3530.000000\n",
              "mean   2.018706e+07    17.155524  ...     0.273088     0.322380\n",
              "std    5.988819e+03    36.131985  ...     0.598653     0.778198\n",
              "min    2.018022e+07  -548.500000  ...    -1.000000    -1.000000\n",
              "25%    2.018082e+07    10.750000  ...     0.000000     0.000000\n",
              "50%    2.019022e+07    15.500000  ...     0.000000     0.000000\n",
              "75%    2.019082e+07    21.000000  ...     0.000000     0.000000\n",
              "max    2.020022e+07  1053.500000  ...     6.000000    11.000000\n",
              "\n",
              "[8 rows x 14 columns]"
            ]
          },
          "metadata": {
            "tags": []
          },
          "execution_count": 52
        }
      ]
    },
    {
      "cell_type": "code",
      "metadata": {
        "id": "6sXwez6a79hE",
        "colab_type": "code",
        "colab": {
          "base_uri": "https://localhost:8080/",
          "height": 289
        },
        "outputId": "f6f33ddc-4bf8-45b6-d8ef-c64d622e893b"
      },
      "source": [
        "df.dtypes"
      ],
      "execution_count": 53,
      "outputs": [
        {
          "output_type": "execute_result",
          "data": {
            "text/plain": [
              "storecode       object\n",
              "date             int64\n",
              "chickenhuns    float64\n",
              "1pc              int64\n",
              "2 pc             int64\n",
              "3 pc             int64\n",
              "4 pc             int64\n",
              "8pc              int64\n",
              "8pc meal         int64\n",
              "12 pc            int64\n",
              "12 pc meal       int64\n",
              "16 pc            int64\n",
              "16 pc meal       int64\n",
              "20 pc            int64\n",
              "20 pc meal       int64\n",
              "dtype: object"
            ]
          },
          "metadata": {
            "tags": []
          },
          "execution_count": 53
        }
      ]
    },
    {
      "cell_type": "code",
      "metadata": {
        "id": "17-7T1uG7slf",
        "colab_type": "code",
        "colab": {}
      },
      "source": [
        "# Remove or replace spaces in column names with underscores\n",
        "df = df.rename(columns = {'storecode':'store_code',\n",
        "                          'chickenhuns':'huns',\n",
        "                          '2 pc':'2pc',\n",
        "                          '3 pc':'3pc',\n",
        "                          '4 pc':'4pc',\n",
        "                          '8pc meal':'8pc_meal',\n",
        "                          '12 pc':'12pc',\n",
        "                          '12 pc meal':'12pc_meal',\n",
        "                          '16 pc':'16pc',\n",
        "                          '16 pc meal':'16pc_meal',\n",
        "                          '20 pc':'20pc',\n",
        "                          '20 pc meal':'20pc_meal'\n",
        "                          })"
      ],
      "execution_count": 0,
      "outputs": []
    },
    {
      "cell_type": "code",
      "metadata": {
        "id": "OIV1f5_A8NyU",
        "colab_type": "code",
        "colab": {
          "base_uri": "https://localhost:8080/",
          "height": 224
        },
        "outputId": "5f9a90e3-83cf-4e26-8dcb-cfe688ced4dd"
      },
      "source": [
        "df.head()"
      ],
      "execution_count": 55,
      "outputs": [
        {
          "output_type": "execute_result",
          "data": {
            "text/html": [
              "<div>\n",
              "<style scoped>\n",
              "    .dataframe tbody tr th:only-of-type {\n",
              "        vertical-align: middle;\n",
              "    }\n",
              "\n",
              "    .dataframe tbody tr th {\n",
              "        vertical-align: top;\n",
              "    }\n",
              "\n",
              "    .dataframe thead th {\n",
              "        text-align: right;\n",
              "    }\n",
              "</style>\n",
              "<table border=\"1\" class=\"dataframe\">\n",
              "  <thead>\n",
              "    <tr style=\"text-align: right;\">\n",
              "      <th></th>\n",
              "      <th>store_code</th>\n",
              "      <th>date</th>\n",
              "      <th>huns</th>\n",
              "      <th>1pc</th>\n",
              "      <th>2pc</th>\n",
              "      <th>3pc</th>\n",
              "      <th>4pc</th>\n",
              "      <th>8pc</th>\n",
              "      <th>8pc_meal</th>\n",
              "      <th>12pc</th>\n",
              "      <th>12pc_meal</th>\n",
              "      <th>16pc</th>\n",
              "      <th>16pc_meal</th>\n",
              "      <th>20pc</th>\n",
              "      <th>20pc_meal</th>\n",
              "    </tr>\n",
              "  </thead>\n",
              "  <tbody>\n",
              "    <tr>\n",
              "      <th>0</th>\n",
              "      <td>C750001</td>\n",
              "      <td>20180221</td>\n",
              "      <td>20.625</td>\n",
              "      <td>23</td>\n",
              "      <td>61</td>\n",
              "      <td>10</td>\n",
              "      <td>0</td>\n",
              "      <td>29</td>\n",
              "      <td>1</td>\n",
              "      <td>7</td>\n",
              "      <td>1</td>\n",
              "      <td>4</td>\n",
              "      <td>0</td>\n",
              "      <td>1</td>\n",
              "      <td>1</td>\n",
              "    </tr>\n",
              "    <tr>\n",
              "      <th>1</th>\n",
              "      <td>C750001</td>\n",
              "      <td>20180222</td>\n",
              "      <td>18.125</td>\n",
              "      <td>19</td>\n",
              "      <td>78</td>\n",
              "      <td>5</td>\n",
              "      <td>0</td>\n",
              "      <td>23</td>\n",
              "      <td>3</td>\n",
              "      <td>14</td>\n",
              "      <td>0</td>\n",
              "      <td>9</td>\n",
              "      <td>1</td>\n",
              "      <td>0</td>\n",
              "      <td>0</td>\n",
              "    </tr>\n",
              "    <tr>\n",
              "      <th>2</th>\n",
              "      <td>C750001</td>\n",
              "      <td>20180223</td>\n",
              "      <td>14.875</td>\n",
              "      <td>16</td>\n",
              "      <td>68</td>\n",
              "      <td>8</td>\n",
              "      <td>0</td>\n",
              "      <td>34</td>\n",
              "      <td>1</td>\n",
              "      <td>10</td>\n",
              "      <td>2</td>\n",
              "      <td>7</td>\n",
              "      <td>1</td>\n",
              "      <td>1</td>\n",
              "      <td>0</td>\n",
              "    </tr>\n",
              "    <tr>\n",
              "      <th>3</th>\n",
              "      <td>C750001</td>\n",
              "      <td>20180224</td>\n",
              "      <td>25.875</td>\n",
              "      <td>17</td>\n",
              "      <td>48</td>\n",
              "      <td>4</td>\n",
              "      <td>0</td>\n",
              "      <td>29</td>\n",
              "      <td>2</td>\n",
              "      <td>9</td>\n",
              "      <td>1</td>\n",
              "      <td>5</td>\n",
              "      <td>1</td>\n",
              "      <td>0</td>\n",
              "      <td>0</td>\n",
              "    </tr>\n",
              "    <tr>\n",
              "      <th>4</th>\n",
              "      <td>C750001</td>\n",
              "      <td>20180225</td>\n",
              "      <td>24.500</td>\n",
              "      <td>21</td>\n",
              "      <td>43</td>\n",
              "      <td>6</td>\n",
              "      <td>0</td>\n",
              "      <td>27</td>\n",
              "      <td>3</td>\n",
              "      <td>14</td>\n",
              "      <td>1</td>\n",
              "      <td>5</td>\n",
              "      <td>1</td>\n",
              "      <td>0</td>\n",
              "      <td>0</td>\n",
              "    </tr>\n",
              "  </tbody>\n",
              "</table>\n",
              "</div>"
            ],
            "text/plain": [
              "  store_code      date    huns  1pc  ...  16pc  16pc_meal  20pc  20pc_meal\n",
              "0    C750001  20180221  20.625   23  ...     4          0     1          1\n",
              "1    C750001  20180222  18.125   19  ...     9          1     0          0\n",
              "2    C750001  20180223  14.875   16  ...     7          1     1          0\n",
              "3    C750001  20180224  25.875   17  ...     5          1     0          0\n",
              "4    C750001  20180225  24.500   21  ...     5          1     0          0\n",
              "\n",
              "[5 rows x 15 columns]"
            ]
          },
          "metadata": {
            "tags": []
          },
          "execution_count": 55
        }
      ]
    },
    {
      "cell_type": "code",
      "metadata": {
        "id": "-o0ApZVyBbiw",
        "colab_type": "code",
        "colab": {}
      },
      "source": [
        "# IDEA——Get separate table with store name, just to practice joins for my ChickenHuns\n",
        "# so orders.csv is what I got from Jeff, and I will make stores.csv with features storecode, storename\n",
        "# train = pd.merge(orders, stores, left_on='product_id', right_on='product_id')"
      ],
      "execution_count": 0,
      "outputs": []
    },
    {
      "cell_type": "code",
      "metadata": {
        "id": "aFsKeWuACc7q",
        "colab_type": "code",
        "outputId": "e9d03248-62c4-45f8-8e10-ed6242988338",
        "colab": {
          "base_uri": "https://localhost:8080/",
          "height": 295
        }
      },
      "source": [
        "(df\n",
        " .plot\n",
        " .scatter(x='8pc_meal', y='huns')\n",
        " .set(title='HUNS vs 8pc Meals Sold',\n",
        "      xlabel='8 pc Meal',\n",
        "      ylabel='Heads Used but Not Sold')\n",
        ");"
      ],
      "execution_count": 57,
      "outputs": [
        {
          "output_type": "display_data",
          "data": {
            "image/png": "[encoded data removed]",
            "text/plain": [
              "<Figure size 432x288 with 1 Axes>"
            ]
          },
          "metadata": {
            "tags": [],
            "needs_background": "light"
          }
        }
      ]
    },
    {
      "cell_type": "code",
      "metadata": {
        "id": "Buq8ZlFTD-59",
        "colab_type": "code",
        "outputId": "f4b2eea1-e91c-4b6b-cb6d-32c9cb4bcf02",
        "colab": {
          "base_uri": "https://localhost:8080/",
          "height": 295
        }
      },
      "source": [
        "(df\n",
        " .plot\n",
        " .scatter(x='store_code', y='huns')\n",
        " .set(title='HUNS by Store',\n",
        "      xlabel='Store Code',\n",
        "      ylabel='Heads Used but Not Sold')\n",
        ");"
      ],
      "execution_count": 58,
      "outputs": [
        {
          "output_type": "display_data",
          "data": {
            "image/png": "[encoded data removed]",
            "text/plain": [
              "<Figure size 432x288 with 1 Axes>"
            ]
          },
          "metadata": {
            "tags": [],
            "needs_background": "light"
          }
        }
      ]
    },
    {
      "cell_type": "code",
      "metadata": {
        "id": "czf0qaBbBrg-",
        "colab_type": "code",
        "outputId": "1c7f86bc-d8fc-49c5-8c8a-8726552b1188",
        "colab": {
          "base_uri": "https://localhost:8080/",
          "height": 295
        }
      },
      "source": [
        "(df\n",
        " .plot\n",
        " .scatter(x='8pc', y='huns')\n",
        " .set(title='HUNS by 8 Piece Orders (Not Meal)',\n",
        "      xlabel='8pc',\n",
        "      ylabel='Heads Used but Not Sold')\n",
        ");"
      ],
      "execution_count": 59,
      "outputs": [
        {
          "output_type": "display_data",
          "data": {
            "image/png": "[encoded data removed]",
            "text/plain": [
              "<Figure size 432x288 with 1 Axes>"
            ]
          },
          "metadata": {
            "tags": [],
            "needs_background": "light"
          }
        }
      ]
    },
    {
      "cell_type": "code",
      "metadata": {
        "id": "KxB-2P2-8XSF",
        "colab_type": "code",
        "colab": {
          "base_uri": "https://localhost:8080/",
          "height": 221
        },
        "outputId": "6506db40-1b96-40b3-f82e-597662ce99f3"
      },
      "source": [
        "df['huns'].value_counts()"
      ],
      "execution_count": 60,
      "outputs": [
        {
          "output_type": "execute_result",
          "data": {
            "text/plain": [
              " 12.875    37\n",
              " 14.625    35\n",
              " 14.375    33\n",
              " 10.000    30\n",
              " 15.875    29\n",
              "           ..\n",
              " 2.250      1\n",
              "-5.250      1\n",
              "-9.500      1\n",
              "-10.000     1\n",
              " 57.375     1\n",
              "Name: huns, Length: 500, dtype: int64"
            ]
          },
          "metadata": {
            "tags": []
          },
          "execution_count": 60
        }
      ]
    },
    {
      "cell_type": "code",
      "metadata": {
        "id": "IXvkqF2iER_b",
        "colab_type": "code",
        "outputId": "62c53ba9-4c68-4329-d472-f94a91e882e4",
        "colab": {
          "base_uri": "https://localhost:8080/",
          "height": 34
        }
      },
      "source": [
        "df.huns.isnull().sum()"
      ],
      "execution_count": 86,
      "outputs": [
        {
          "output_type": "execute_result",
          "data": {
            "text/plain": [
              "0"
            ]
          },
          "metadata": {
            "tags": []
          },
          "execution_count": 86
        }
      ]
    },
    {
      "cell_type": "code",
      "metadata": {
        "id": "CXgqUIPR8ek9",
        "colab_type": "code",
        "colab": {
          "base_uri": "https://localhost:8080/",
          "height": 170
        },
        "outputId": "c9560321-f141-4926-a230-d0aea077b7e8"
      },
      "source": [
        "df['huns'].describe().T"
      ],
      "execution_count": 61,
      "outputs": [
        {
          "output_type": "execute_result",
          "data": {
            "text/plain": [
              "count    3530.000000\n",
              "mean       17.155524\n",
              "std        36.131985\n",
              "min      -548.500000\n",
              "25%        10.750000\n",
              "50%        15.500000\n",
              "75%        21.000000\n",
              "max      1053.500000\n",
              "Name: huns, dtype: float64"
            ]
          },
          "metadata": {
            "tags": []
          },
          "execution_count": 61
        }
      ]
    },
    {
      "cell_type": "code",
      "metadata": {
        "id": "VVYxnjlGDVaZ",
        "colab_type": "code",
        "colab": {
          "base_uri": "https://localhost:8080/",
          "height": 265
        },
        "outputId": "f1bf1097-8c64-46ba-a83a-136c8e96949a"
      },
      "source": [
        "plt.hist(df['huns'], bins=[-10, -5, 0, 5, 10, 15, 20, 25, 30, 35]);"
      ],
      "execution_count": 63,
      "outputs": [
        {
          "output_type": "display_data",
          "data": {
            "image/png": "[encoded data removed]",
            "text/plain": [
              "<Figure size 432x288 with 1 Axes>"
            ]
          },
          "metadata": {
            "tags": [],
            "needs_background": "light"
          }
        }
      ]
    },
    {
      "cell_type": "code",
      "metadata": {
        "id": "VZQcSVM78pjt",
        "colab_type": "code",
        "colab": {
          "base_uri": "https://localhost:8080/",
          "height": 282
        },
        "outputId": "eb114a62-94be-430f-c019-27fd1d5b68cd"
      },
      "source": [
        "df['huns'].plot.hist(bins=5)"
      ],
      "execution_count": 64,
      "outputs": [
        {
          "output_type": "execute_result",
          "data": {
            "text/plain": [
              "<matplotlib.axes._subplots.AxesSubplot at 0x7f8fc0fa1f28>"
            ]
          },
          "metadata": {
            "tags": []
          },
          "execution_count": 64
        },
        {
          "output_type": "display_data",
          "data": {
            "image/png": "[encoded data removed]",
            "text/plain": [
              "<Figure size 432x288 with 1 Axes>"
            ]
          },
          "metadata": {
            "tags": [],
            "needs_background": "light"
          }
        }
      ]
    },
    {
      "cell_type": "code",
      "metadata": {
        "id": "6WcN74_Z9XHC",
        "colab_type": "code",
        "colab": {
          "base_uri": "https://localhost:8080/",
          "height": 301
        },
        "outputId": "149cee31-f0e3-4d57-d7b9-7901521ab1a8"
      },
      "source": [
        "df['20pc_meal'].value_counts(sort=True).plot.bar().set_title('20pc Meals')"
      ],
      "execution_count": 65,
      "outputs": [
        {
          "output_type": "execute_result",
          "data": {
            "text/plain": [
              "Text(0.5, 1.0, '20pc Meals')"
            ]
          },
          "metadata": {
            "tags": []
          },
          "execution_count": 65
        },
        {
          "output_type": "display_data",
          "data": {
            "image/png": "[encoded data removed]",
            "text/plain": [
              "<Figure size 432x288 with 1 Axes>"
            ]
          },
          "metadata": {
            "tags": [],
            "needs_background": "light"
          }
        }
      ]
    },
    {
      "cell_type": "code",
      "metadata": {
        "id": "9-EarzUF39Jn",
        "colab_type": "code",
        "colab": {}
      },
      "source": [
        "# Only keep rows where 0 <= huns <= 35\n",
        "# Remove rows where 8pc_meal, 20pc, or 20pc_meal < 0\n",
        "import numpy as np\n",
        "df = df[(df['huns'] >= 0) &\n",
        "        (df['huns'] <= 35) &\n",
        "        (df['8pc_meal'] >= 0) &\n",
        "        (df['20pc'] >= 0) &\n",
        "        (df['20pc_meal'] >=0)]"
      ],
      "execution_count": 0,
      "outputs": []
    },
    {
      "cell_type": "code",
      "metadata": {
        "id": "qWFd0wIjAWyZ",
        "colab_type": "code",
        "colab": {
          "base_uri": "https://localhost:8080/",
          "height": 317
        },
        "outputId": "dab910a6-e0ec-4b95-c765-fe9843e30087"
      },
      "source": [
        "df.describe()"
      ],
      "execution_count": 67,
      "outputs": [
        {
          "output_type": "execute_result",
          "data": {
            "text/html": [
              "<div>\n",
              "<style scoped>\n",
              "    .dataframe tbody tr th:only-of-type {\n",
              "        vertical-align: middle;\n",
              "    }\n",
              "\n",
              "    .dataframe tbody tr th {\n",
              "        vertical-align: top;\n",
              "    }\n",
              "\n",
              "    .dataframe thead th {\n",
              "        text-align: right;\n",
              "    }\n",
              "</style>\n",
              "<table border=\"1\" class=\"dataframe\">\n",
              "  <thead>\n",
              "    <tr style=\"text-align: right;\">\n",
              "      <th></th>\n",
              "      <th>date</th>\n",
              "      <th>huns</th>\n",
              "      <th>1pc</th>\n",
              "      <th>2pc</th>\n",
              "      <th>3pc</th>\n",
              "      <th>4pc</th>\n",
              "      <th>8pc</th>\n",
              "      <th>8pc_meal</th>\n",
              "      <th>12pc</th>\n",
              "      <th>12pc_meal</th>\n",
              "      <th>16pc</th>\n",
              "      <th>16pc_meal</th>\n",
              "      <th>20pc</th>\n",
              "      <th>20pc_meal</th>\n",
              "    </tr>\n",
              "  </thead>\n",
              "  <tbody>\n",
              "    <tr>\n",
              "      <th>count</th>\n",
              "      <td>3.201000e+03</td>\n",
              "      <td>3201.000000</td>\n",
              "      <td>3201.000000</td>\n",
              "      <td>3201.000000</td>\n",
              "      <td>3201.000000</td>\n",
              "      <td>3201.000000</td>\n",
              "      <td>3201.000000</td>\n",
              "      <td>3201.000000</td>\n",
              "      <td>3201.000000</td>\n",
              "      <td>3201.000000</td>\n",
              "      <td>3201.000000</td>\n",
              "      <td>3201.000000</td>\n",
              "      <td>3201.000000</td>\n",
              "      <td>3201.000000</td>\n",
              "    </tr>\n",
              "    <tr>\n",
              "      <th>mean</th>\n",
              "      <td>2.018715e+07</td>\n",
              "      <td>15.894916</td>\n",
              "      <td>13.185255</td>\n",
              "      <td>41.138082</td>\n",
              "      <td>6.344892</td>\n",
              "      <td>2.237738</td>\n",
              "      <td>6.233052</td>\n",
              "      <td>2.317088</td>\n",
              "      <td>5.865355</td>\n",
              "      <td>1.679163</td>\n",
              "      <td>3.430490</td>\n",
              "      <td>0.974695</td>\n",
              "      <td>0.268041</td>\n",
              "      <td>0.322712</td>\n",
              "    </tr>\n",
              "    <tr>\n",
              "      <th>std</th>\n",
              "      <td>5.994632e+03</td>\n",
              "      <td>6.938438</td>\n",
              "      <td>9.031181</td>\n",
              "      <td>15.557584</td>\n",
              "      <td>5.555044</td>\n",
              "      <td>2.627028</td>\n",
              "      <td>5.875483</td>\n",
              "      <td>1.733057</td>\n",
              "      <td>3.247353</td>\n",
              "      <td>1.475583</td>\n",
              "      <td>2.350584</td>\n",
              "      <td>1.208427</td>\n",
              "      <td>0.584706</td>\n",
              "      <td>0.785342</td>\n",
              "    </tr>\n",
              "    <tr>\n",
              "      <th>min</th>\n",
              "      <td>2.018022e+07</td>\n",
              "      <td>0.000000</td>\n",
              "      <td>0.000000</td>\n",
              "      <td>3.000000</td>\n",
              "      <td>0.000000</td>\n",
              "      <td>0.000000</td>\n",
              "      <td>0.000000</td>\n",
              "      <td>0.000000</td>\n",
              "      <td>0.000000</td>\n",
              "      <td>0.000000</td>\n",
              "      <td>0.000000</td>\n",
              "      <td>0.000000</td>\n",
              "      <td>0.000000</td>\n",
              "      <td>0.000000</td>\n",
              "    </tr>\n",
              "    <tr>\n",
              "      <th>25%</th>\n",
              "      <td>2.018082e+07</td>\n",
              "      <td>11.000000</td>\n",
              "      <td>7.000000</td>\n",
              "      <td>30.000000</td>\n",
              "      <td>2.000000</td>\n",
              "      <td>0.000000</td>\n",
              "      <td>2.000000</td>\n",
              "      <td>1.000000</td>\n",
              "      <td>3.000000</td>\n",
              "      <td>1.000000</td>\n",
              "      <td>2.000000</td>\n",
              "      <td>0.000000</td>\n",
              "      <td>0.000000</td>\n",
              "      <td>0.000000</td>\n",
              "    </tr>\n",
              "    <tr>\n",
              "      <th>50%</th>\n",
              "      <td>2.019022e+07</td>\n",
              "      <td>15.250000</td>\n",
              "      <td>13.000000</td>\n",
              "      <td>40.000000</td>\n",
              "      <td>5.000000</td>\n",
              "      <td>1.000000</td>\n",
              "      <td>4.000000</td>\n",
              "      <td>2.000000</td>\n",
              "      <td>5.000000</td>\n",
              "      <td>1.000000</td>\n",
              "      <td>3.000000</td>\n",
              "      <td>1.000000</td>\n",
              "      <td>0.000000</td>\n",
              "      <td>0.000000</td>\n",
              "    </tr>\n",
              "    <tr>\n",
              "      <th>75%</th>\n",
              "      <td>2.019083e+07</td>\n",
              "      <td>20.125000</td>\n",
              "      <td>19.000000</td>\n",
              "      <td>51.000000</td>\n",
              "      <td>9.000000</td>\n",
              "      <td>4.000000</td>\n",
              "      <td>9.000000</td>\n",
              "      <td>3.000000</td>\n",
              "      <td>8.000000</td>\n",
              "      <td>2.000000</td>\n",
              "      <td>5.000000</td>\n",
              "      <td>1.000000</td>\n",
              "      <td>0.000000</td>\n",
              "      <td>0.000000</td>\n",
              "    </tr>\n",
              "    <tr>\n",
              "      <th>max</th>\n",
              "      <td>2.020022e+07</td>\n",
              "      <td>35.000000</td>\n",
              "      <td>54.000000</td>\n",
              "      <td>110.000000</td>\n",
              "      <td>38.000000</td>\n",
              "      <td>15.000000</td>\n",
              "      <td>34.000000</td>\n",
              "      <td>12.000000</td>\n",
              "      <td>22.000000</td>\n",
              "      <td>9.000000</td>\n",
              "      <td>22.000000</td>\n",
              "      <td>14.000000</td>\n",
              "      <td>5.000000</td>\n",
              "      <td>11.000000</td>\n",
              "    </tr>\n",
              "  </tbody>\n",
              "</table>\n",
              "</div>"
            ],
            "text/plain": [
              "               date         huns  ...         20pc    20pc_meal\n",
              "count  3.201000e+03  3201.000000  ...  3201.000000  3201.000000\n",
              "mean   2.018715e+07    15.894916  ...     0.268041     0.322712\n",
              "std    5.994632e+03     6.938438  ...     0.584706     0.785342\n",
              "min    2.018022e+07     0.000000  ...     0.000000     0.000000\n",
              "25%    2.018082e+07    11.000000  ...     0.000000     0.000000\n",
              "50%    2.019022e+07    15.250000  ...     0.000000     0.000000\n",
              "75%    2.019083e+07    20.125000  ...     0.000000     0.000000\n",
              "max    2.020022e+07    35.000000  ...     5.000000    11.000000\n",
              "\n",
              "[8 rows x 14 columns]"
            ]
          },
          "metadata": {
            "tags": []
          },
          "execution_count": 67
        }
      ]
    },
    {
      "cell_type": "code",
      "metadata": {
        "id": "UsUqVn2xAq7u",
        "colab_type": "code",
        "colab": {
          "base_uri": "https://localhost:8080/",
          "height": 265
        },
        "outputId": "a9a4a5fc-64d5-489b-fbfc-df05a12be204"
      },
      "source": [
        "from matplotlib import pyplot as plt\n",
        "plt.hist(df['huns'], bins=[-10, -5, 0, 5, 10, 15, 20, 25, 30, 35])\n",
        "plt.show();"
      ],
      "execution_count": 68,
      "outputs": [
        {
          "output_type": "display_data",
          "data": {
            "image/png": "[encoded data removed]",
            "text/plain": [
              "<Figure size 432x288 with 1 Axes>"
            ]
          },
          "metadata": {
            "tags": [],
            "needs_background": "light"
          }
        }
      ]
    },
    {
      "cell_type": "code",
      "metadata": {
        "id": "T50NN08UAzvP",
        "colab_type": "code",
        "colab": {
          "base_uri": "https://localhost:8080/",
          "height": 285
        },
        "outputId": "44a96cdf-a184-4f74-a106-1c93476630bf"
      },
      "source": [
        "df['huns'].plot.hist()"
      ],
      "execution_count": 69,
      "outputs": [
        {
          "output_type": "execute_result",
          "data": {
            "text/plain": [
              "<matplotlib.axes._subplots.AxesSubplot at 0x7f8fc2dbc6d8>"
            ]
          },
          "metadata": {
            "tags": []
          },
          "execution_count": 69
        },
        {
          "output_type": "display_data",
          "data": {
            "image/png": "[encoded data removed]",
            "text/plain": [
              "<Figure size 432x288 with 1 Axes>"
            ]
          },
          "metadata": {
            "tags": [],
            "needs_background": "light"
          }
        }
      ]
    },
    {
      "cell_type": "code",
      "metadata": {
        "id": "xf-Zr3jnBdk_",
        "colab_type": "code",
        "colab": {
          "base_uri": "https://localhost:8080/",
          "height": 309
        },
        "outputId": "450df62c-4f26-46ad-ff25-27e622609ab0"
      },
      "source": [
        "# Date column is an int of format YYYYMMDD\n",
        "df['date'] = pd.to_datetime(df['date'].astype(str), format='%Y%m%d')\n",
        "df.head()"
      ],
      "execution_count": 74,
      "outputs": [
        {
          "output_type": "execute_result",
          "data": {
            "text/html": [
              "<div>\n",
              "<style scoped>\n",
              "    .dataframe tbody tr th:only-of-type {\n",
              "        vertical-align: middle;\n",
              "    }\n",
              "\n",
              "    .dataframe tbody tr th {\n",
              "        vertical-align: top;\n",
              "    }\n",
              "\n",
              "    .dataframe thead th {\n",
              "        text-align: right;\n",
              "    }\n",
              "</style>\n",
              "<table border=\"1\" class=\"dataframe\">\n",
              "  <thead>\n",
              "    <tr style=\"text-align: right;\">\n",
              "      <th></th>\n",
              "      <th>store_code</th>\n",
              "      <th>date</th>\n",
              "      <th>huns</th>\n",
              "      <th>1pc</th>\n",
              "      <th>2pc</th>\n",
              "      <th>3pc</th>\n",
              "      <th>4pc</th>\n",
              "      <th>8pc</th>\n",
              "      <th>8pc_meal</th>\n",
              "      <th>12pc</th>\n",
              "      <th>12pc_meal</th>\n",
              "      <th>16pc</th>\n",
              "      <th>16pc_meal</th>\n",
              "      <th>20pc</th>\n",
              "      <th>20pc_meal</th>\n",
              "    </tr>\n",
              "  </thead>\n",
              "  <tbody>\n",
              "    <tr>\n",
              "      <th>0</th>\n",
              "      <td>C750001</td>\n",
              "      <td>2018-02-21</td>\n",
              "      <td>20.625</td>\n",
              "      <td>23</td>\n",
              "      <td>61</td>\n",
              "      <td>10</td>\n",
              "      <td>0</td>\n",
              "      <td>29</td>\n",
              "      <td>1</td>\n",
              "      <td>7</td>\n",
              "      <td>1</td>\n",
              "      <td>4</td>\n",
              "      <td>0</td>\n",
              "      <td>1</td>\n",
              "      <td>1</td>\n",
              "    </tr>\n",
              "    <tr>\n",
              "      <th>1</th>\n",
              "      <td>C750001</td>\n",
              "      <td>2018-02-22</td>\n",
              "      <td>18.125</td>\n",
              "      <td>19</td>\n",
              "      <td>78</td>\n",
              "      <td>5</td>\n",
              "      <td>0</td>\n",
              "      <td>23</td>\n",
              "      <td>3</td>\n",
              "      <td>14</td>\n",
              "      <td>0</td>\n",
              "      <td>9</td>\n",
              "      <td>1</td>\n",
              "      <td>0</td>\n",
              "      <td>0</td>\n",
              "    </tr>\n",
              "    <tr>\n",
              "      <th>2</th>\n",
              "      <td>C750001</td>\n",
              "      <td>2018-02-23</td>\n",
              "      <td>14.875</td>\n",
              "      <td>16</td>\n",
              "      <td>68</td>\n",
              "      <td>8</td>\n",
              "      <td>0</td>\n",
              "      <td>34</td>\n",
              "      <td>1</td>\n",
              "      <td>10</td>\n",
              "      <td>2</td>\n",
              "      <td>7</td>\n",
              "      <td>1</td>\n",
              "      <td>1</td>\n",
              "      <td>0</td>\n",
              "    </tr>\n",
              "    <tr>\n",
              "      <th>3</th>\n",
              "      <td>C750001</td>\n",
              "      <td>2018-02-24</td>\n",
              "      <td>25.875</td>\n",
              "      <td>17</td>\n",
              "      <td>48</td>\n",
              "      <td>4</td>\n",
              "      <td>0</td>\n",
              "      <td>29</td>\n",
              "      <td>2</td>\n",
              "      <td>9</td>\n",
              "      <td>1</td>\n",
              "      <td>5</td>\n",
              "      <td>1</td>\n",
              "      <td>0</td>\n",
              "      <td>0</td>\n",
              "    </tr>\n",
              "    <tr>\n",
              "      <th>4</th>\n",
              "      <td>C750001</td>\n",
              "      <td>2018-02-25</td>\n",
              "      <td>24.500</td>\n",
              "      <td>21</td>\n",
              "      <td>43</td>\n",
              "      <td>6</td>\n",
              "      <td>0</td>\n",
              "      <td>27</td>\n",
              "      <td>3</td>\n",
              "      <td>14</td>\n",
              "      <td>1</td>\n",
              "      <td>5</td>\n",
              "      <td>1</td>\n",
              "      <td>0</td>\n",
              "      <td>0</td>\n",
              "    </tr>\n",
              "  </tbody>\n",
              "</table>\n",
              "</div>"
            ],
            "text/plain": [
              "  store_code       date    huns  1pc  ...  16pc  16pc_meal  20pc  20pc_meal\n",
              "0    C750001 2018-02-21  20.625   23  ...     4          0     1          1\n",
              "1    C750001 2018-02-22  18.125   19  ...     9          1     0          0\n",
              "2    C750001 2018-02-23  14.875   16  ...     7          1     1          0\n",
              "3    C750001 2018-02-24  25.875   17  ...     5          1     0          0\n",
              "4    C750001 2018-02-25  24.500   21  ...     5          1     0          0\n",
              "\n",
              "[5 rows x 15 columns]"
            ]
          },
          "metadata": {
            "tags": []
          },
          "execution_count": 74
        }
      ]
    },
    {
      "cell_type": "code",
      "metadata": {
        "id": "MxG4aWePECQu",
        "colab_type": "code",
        "colab": {
          "base_uri": "https://localhost:8080/",
          "height": 289
        },
        "outputId": "6ae10629-e924-4eaf-ee25-a2a79378e965"
      },
      "source": [
        "df.dtypes"
      ],
      "execution_count": 75,
      "outputs": [
        {
          "output_type": "execute_result",
          "data": {
            "text/plain": [
              "store_code            object\n",
              "date          datetime64[ns]\n",
              "huns                 float64\n",
              "1pc                    int64\n",
              "2pc                    int64\n",
              "3pc                    int64\n",
              "4pc                    int64\n",
              "8pc                    int64\n",
              "8pc_meal               int64\n",
              "12pc                   int64\n",
              "12pc_meal              int64\n",
              "16pc                   int64\n",
              "16pc_meal              int64\n",
              "20pc                   int64\n",
              "20pc_meal              int64\n",
              "dtype: object"
            ]
          },
          "metadata": {
            "tags": []
          },
          "execution_count": 75
        }
      ]
    },
    {
      "cell_type": "code",
      "metadata": {
        "id": "Tl5AbrskDm1F",
        "colab_type": "code",
        "outputId": "3d6c2a30-0d38-4c0b-ceb3-9847c692e51e",
        "colab": {
          "base_uri": "https://localhost:8080/",
          "height": 294
        }
      },
      "source": [
        "# ChickenHuns as time series\n",
        "df.set_index('date')['huns'].plot()"
      ],
      "execution_count": 76,
      "outputs": [
        {
          "output_type": "execute_result",
          "data": {
            "text/plain": [
              "<matplotlib.axes._subplots.AxesSubplot at 0x7f8fc0fc8a90>"
            ]
          },
          "metadata": {
            "tags": []
          },
          "execution_count": 76
        },
        {
          "output_type": "display_data",
          "data": {
            "image/png": "[encoded data removed]",
            "text/plain": [
              "<Figure size 432x288 with 1 Axes>"
            ]
          },
          "metadata": {
            "tags": [],
            "needs_background": "light"
          }
        }
      ]
    },
    {
      "cell_type": "code",
      "metadata": {
        "id": "WHEVxS_pEuG3",
        "colab_type": "code",
        "colab": {
          "base_uri": "https://localhost:8080/",
          "height": 295
        },
        "outputId": "8ace3384-2e20-48bc-cc04-86647a8b4bd3"
      },
      "source": [
        "(df\n",
        " .plot\n",
        " .scatter(x='store_code', y='huns')\n",
        " .set(title='HUNS by Store',\n",
        "      xlabel='Store Code',\n",
        "      ylabel='Heads Used but Not Sold')\n",
        ");"
      ],
      "execution_count": 78,
      "outputs": [
        {
          "output_type": "display_data",
          "data": {
            "image/png": "[encoded data removed]",
            "text/plain": [
              "<Figure size 432x288 with 1 Axes>"
            ]
          },
          "metadata": {
            "tags": [],
            "needs_background": "light"
          }
        }
      ]
    },
    {
      "cell_type": "code",
      "metadata": {
        "id": "8SIIDXQBFMRz",
        "colab_type": "code",
        "colab": {
          "base_uri": "https://localhost:8080/",
          "height": 280
        },
        "outputId": "2af46f75-be7a-4374-b591-fd1d095c0c4b"
      },
      "source": [
        "sns.violinplot(x='store_code', y='huns', data=df);"
      ],
      "execution_count": 81,
      "outputs": [
        {
          "output_type": "display_data",
          "data": {
            "image/png": "[encoded data removed]",
            "text/plain": [
              "<Figure size 432x288 with 1 Axes>"
            ]
          },
          "metadata": {
            "tags": [],
            "needs_background": "light"
          }
        }
      ]
    },
    {
      "cell_type": "code",
      "metadata": {
        "id": "C-w_BympAebd",
        "colab_type": "code",
        "colab": {}
      },
      "source": [
        "huns = df.copy()"
      ],
      "execution_count": 0,
      "outputs": []
    },
    {
      "cell_type": "code",
      "metadata": {
        "id": "CIxttK1yAuw8",
        "colab_type": "code",
        "outputId": "e10983a0-b347-4663-e9db-f54490f5117d",
        "colab": {
          "base_uri": "https://localhost:8080/",
          "height": 170
        }
      },
      "source": [
        "huns['huns'].describe().T"
      ],
      "execution_count": 83,
      "outputs": [
        {
          "output_type": "execute_result",
          "data": {
            "text/plain": [
              "count    3201.000000\n",
              "mean       15.894916\n",
              "std         6.938438\n",
              "min         0.000000\n",
              "25%        11.000000\n",
              "50%        15.250000\n",
              "75%        20.125000\n",
              "max        35.000000\n",
              "Name: huns, dtype: float64"
            ]
          },
          "metadata": {
            "tags": []
          },
          "execution_count": 83
        }
      ]
    },
    {
      "cell_type": "code",
      "metadata": {
        "id": "5qgJMr0GA2wE",
        "colab_type": "code",
        "outputId": "bd6cfb76-646b-4d15-ce78-42d0c0e2be9c",
        "colab": {
          "base_uri": "https://localhost:8080/",
          "height": 221
        }
      },
      "source": [
        "huns['huns'].value_counts()"
      ],
      "execution_count": 84,
      "outputs": [
        {
          "output_type": "execute_result",
          "data": {
            "text/plain": [
              "12.875    37\n",
              "14.625    35\n",
              "14.375    33\n",
              "10.000    30\n",
              "15.750    29\n",
              "          ..\n",
              "29.500     1\n",
              "32.500     1\n",
              "1.375      1\n",
              "2.125      1\n",
              "31.625     1\n",
              "Name: huns, Length: 277, dtype: int64"
            ]
          },
          "metadata": {
            "tags": []
          },
          "execution_count": 84
        }
      ]
    },
    {
      "cell_type": "markdown",
      "metadata": {
        "id": "xM0aZDKY_OTt",
        "colab_type": "text"
      },
      "source": [
        "## The Data Exploration, v1.0"
      ]
    },
    {
      "cell_type": "code",
      "metadata": {
        "id": "8-BhubO3GTDi",
        "colab_type": "code",
        "colab": {}
      },
      "source": [
        "# Pandas profiling\n"
      ],
      "execution_count": 0,
      "outputs": []
    },
    {
      "cell_type": "code",
      "metadata": {
        "id": "zDkg1aeBEUJz",
        "colab_type": "code",
        "outputId": "0445b76a-05ed-477a-e525-657239c1b191",
        "colab": {
          "base_uri": "https://localhost:8080/",
          "height": 119
        }
      },
      "source": [
        "huns.store_code.value_counts()"
      ],
      "execution_count": 88,
      "outputs": [
        {
          "output_type": "execute_result",
          "data": {
            "text/plain": [
              "C750036    704\n",
              "C750002    681\n",
              "C750004    674\n",
              "C750001    657\n",
              "C750081    485\n",
              "Name: store_code, dtype: int64"
            ]
          },
          "metadata": {
            "tags": []
          },
          "execution_count": 88
        }
      ]
    },
    {
      "cell_type": "markdown",
      "metadata": {
        "id": "OkglHQh2PIY3",
        "colab_type": "text"
      },
      "source": [
        "# The Problem"
      ]
    },
    {
      "cell_type": "markdown",
      "metadata": {
        "id": "RAwlsuDbhQmd",
        "colab_type": "text"
      },
      "source": [
        "## The Target: ChickenHuns\n",
        "Heads Used but Not Sold (HUNS) is a measure of money lost and food wasted.\n",
        "\n",
        "Variations on this target are:\n",
        "- Today\n",
        "- Tomorrow\n",
        "- By restaurant\n",
        "- Total across all restaurants"
      ]
    },
    {
      "cell_type": "markdown",
      "metadata": {
        "id": "kzULimEZ6diQ",
        "colab_type": "text"
      },
      "source": [
        "## The Problem: Regression\n",
        "ChickenHuns is a continuous, numeric variable. Therefore, this is a regressions problem.\n",
        "\n",
        "But would it be worthwhile to great ChickenHuns as categorical? Examples would be yes/no or none/little/much.\n",
        "\n",
        "Answer: whatever gives you the best answer based on applicable success criteria.\n",
        "\n",
        "Logistic regression\n",
        "Decision trees"
      ]
    },
    {
      "cell_type": "markdown",
      "metadata": {
        "id": "FHp0nPgUJNwJ",
        "colab_type": "text"
      },
      "source": [
        "## The Baseline: Mean"
      ]
    },
    {
      "cell_type": "code",
      "metadata": {
        "id": "uHL9QqQ4GVD6",
        "colab_type": "code",
        "colab": {
          "base_uri": "https://localhost:8080/",
          "height": 119
        },
        "outputId": "132f0163-90ba-4ce7-c98d-fb17d6ccc4b1"
      },
      "source": [
        "print(f'Average HUNS across all stores and all dates: {huns.huns.mean():.2f}')\n",
        "print(f'Average HUNS at C750036: {huns[huns[\"store_code\"] == \"C750036\"].huns.mean():.2f}')\n",
        "print(f'Average HUNS at C750002: {huns[huns[\"store_code\"] == \"C750002\"].huns.mean():.2f}')\n",
        "print(f'Average HUNS at C750004: {huns[huns[\"store_code\"] == \"C750004\"].huns.mean():.2f}')\n",
        "print(f'Average HUNS at C750001: {huns[huns[\"store_code\"] == \"C750001\"].huns.mean():.2f}')\n",
        "print(f'Average HUNS at C750081: {huns[huns[\"store_code\"] == \"C750081\"].huns.mean():.2f}')"
      ],
      "execution_count": 101,
      "outputs": [
        {
          "output_type": "stream",
          "text": [
            "Average HUNS across all stores and all dates: 15.89\n",
            "Average HUNS at C750036: 14.97\n",
            "Average HUNS at C750002: 16.30\n",
            "Average HUNS at C750004: 12.72\n",
            "Average HUNS at C750001: 16.37\n",
            "Average HUNS at C750081: 20.44\n"
          ],
          "name": "stdout"
        }
      ]
    },
    {
      "cell_type": "markdown",
      "metadata": {
        "id": "kimlHHse31Vp",
        "colab_type": "text"
      },
      "source": [
        "## The Distribution: Pretty normal"
      ]
    },
    {
      "cell_type": "code",
      "metadata": {
        "id": "tIoxwLQSFLuO",
        "colab_type": "code",
        "colab": {
          "base_uri": "https://localhost:8080/",
          "height": 279
        },
        "outputId": "dd689870-7689-43d6-f6dc-7a82a8c90202"
      },
      "source": [
        "import seaborn as sns\n",
        "sns.distplot(df['huns']);"
      ],
      "execution_count": 102,
      "outputs": [
        {
          "output_type": "display_data",
          "data": {
            "image/png": "[encoded data removed]",
            "text/plain": [
              "<Figure size 432x288 with 1 Axes>"
            ]
          },
          "metadata": {
            "tags": [],
            "needs_background": "light"
          }
        }
      ]
    },
    {
      "cell_type": "markdown",
      "metadata": {
        "id": "7LbWkA0h7J7i",
        "colab_type": "text"
      },
      "source": [
        "## The Evaluation Metric: R^2\n",
        "Evaluation metric(s) for this regression problem will be mean absolute error."
      ]
    },
    {
      "cell_type": "code",
      "metadata": {
        "id": "-NrZm1Pf3uYJ",
        "colab_type": "code",
        "outputId": "9ddcd485-ab22-4b08-fb69-cf1427aaee5f",
        "colab": {
          "base_uri": "https://localhost:8080/",
          "height": 34
        }
      },
      "source": [
        "# Baseline is average\n",
        "print(f'Baseline average HUNS is: {df[\"ChickenHuns\"].mean()*100:.2f}')"
      ],
      "execution_count": 0,
      "outputs": [
        {
          "output_type": "stream",
          "text": [
            "Baseline average HUNS is: 1715.55\n"
          ],
          "name": "stdout"
        }
      ]
    },
    {
      "cell_type": "markdown",
      "metadata": {
        "id": "vY9MKeLv9oPH",
        "colab_type": "text"
      },
      "source": [
        "## The Observations: Exclude Outliers; Time-Based Split\n",
        "I'd rather not use date, because this time period includes management and other changes. Possibly I should try random and time based splits.\n",
        "\n",
        "Then again, not using date might incur the problem of time travel.\n",
        "\n",
        "Try it both ways and see.\n",
        "\n",
        "At first glance, it appears that HUNS is roughly normal in a range from -548.5 to 1053.5. But this looks incorrect: neither negative nor very high numbers make sense. Get rid of negative numbers and very high numbers.\n",
        "\n",
        "The same goes for other features, if necessary."
      ]
    },
    {
      "cell_type": "markdown",
      "metadata": {
        "id": "C9BBsgJU9Fvd",
        "colab_type": "text"
      },
      "source": [
        "# The Visualisations: or Data Exploration 2.0"
      ]
    },
    {
      "cell_type": "markdown",
      "metadata": {
        "id": "qCx6_ozbRTri",
        "colab_type": "text"
      },
      "source": [
        "## The Confusion Matrix"
      ]
    },
    {
      "cell_type": "code",
      "metadata": {
        "id": "MVHXk0u7RYP9",
        "colab_type": "code",
        "colab": {}
      },
      "source": [
        ""
      ],
      "execution_count": 0,
      "outputs": []
    },
    {
      "cell_type": "markdown",
      "metadata": {
        "id": "mAME5La6Rjg1",
        "colab_type": "text"
      },
      "source": [
        "## The Double Partial Dependence Plot"
      ]
    },
    {
      "cell_type": "code",
      "metadata": {
        "id": "9rGq1LFtRnEU",
        "colab_type": "code",
        "colab": {}
      },
      "source": [
        ""
      ],
      "execution_count": 0,
      "outputs": []
    },
    {
      "cell_type": "markdown",
      "metadata": {
        "id": "8Fq6I3suFd-v",
        "colab_type": "text"
      },
      "source": [
        "## The Log Transform"
      ]
    },
    {
      "cell_type": "code",
      "metadata": {
        "id": "I7iRYTIDRY3a",
        "colab_type": "code",
        "colab": {}
      },
      "source": [
        ""
      ],
      "execution_count": 0,
      "outputs": []
    },
    {
      "cell_type": "markdown",
      "metadata": {
        "id": "oLTltN8vC5f8",
        "colab_type": "text"
      },
      "source": [
        "# The Data Wrangling and Feature Engineering\n",
        "- All meals\n",
        "- Yesterday's ChickenHuns\n",
        "- Yesterday's meals\n",
        "- Last week, month, etc. (crackdown by regional manager?)\n",
        "- Weekday/weekend (busier? different manager?)\n",
        "- Modulus of total pieces divided by eight (a head of chicken is eight pieces)\n",
        "- Store number (effect of management)\n",
        "- Ratio of 24pc to 8pc (staff anticipating 24pc but disappointed?)\n",
        "- Rolling averages of 24pc (inversely related to HUNS?)"
      ]
    },
    {
      "cell_type": "code",
      "metadata": {
        "id": "8fAWH9tM9GTt",
        "colab_type": "code",
        "colab": {}
      },
      "source": [
        ""
      ],
      "execution_count": 0,
      "outputs": []
    },
    {
      "cell_type": "markdown",
      "metadata": {
        "id": "wt9xRcvNGI0o",
        "colab_type": "text"
      },
      "source": [
        "# The Train/Test Split"
      ]
    },
    {
      "cell_type": "code",
      "metadata": {
        "id": "J37-3CA0GIGA",
        "colab_type": "code",
        "colab": {}
      },
      "source": [
        ""
      ],
      "execution_count": 0,
      "outputs": []
    },
    {
      "cell_type": "markdown",
      "metadata": {
        "id": "6bQhw4M2RCiD",
        "colab_type": "text"
      },
      "source": [
        "# The Models"
      ]
    },
    {
      "cell_type": "code",
      "metadata": {
        "id": "kyiDHSEKRJSI",
        "colab_type": "code",
        "colab": {}
      },
      "source": [
        ""
      ],
      "execution_count": 0,
      "outputs": []
    },
    {
      "cell_type": "markdown",
      "metadata": {
        "id": "zTZZPuR0GLYZ",
        "colab_type": "text"
      },
      "source": [
        "# The Fit and Trained Model"
      ]
    },
    {
      "cell_type": "code",
      "metadata": {
        "id": "V9n6cOd1GhcH",
        "colab_type": "code",
        "colab": {}
      },
      "source": [
        ""
      ],
      "execution_count": 0,
      "outputs": []
    },
    {
      "cell_type": "markdown",
      "metadata": {
        "id": "dmQA9WZbRd6z",
        "colab_type": "text"
      },
      "source": [
        "# The Pickling of Pipeline"
      ]
    },
    {
      "cell_type": "code",
      "metadata": {
        "id": "AtDtKRipRfO7",
        "colab_type": "code",
        "colab": {}
      },
      "source": [
        ""
      ],
      "execution_count": 0,
      "outputs": []
    }
  ]
}